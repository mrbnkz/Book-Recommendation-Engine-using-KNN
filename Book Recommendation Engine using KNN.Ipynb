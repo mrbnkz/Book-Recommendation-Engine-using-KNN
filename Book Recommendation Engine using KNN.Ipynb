import numpy as np
import pandas as pd
from scipy.sparse import csr_matrix
from sklearn.neighbors import NearestNeighbors
import matplotlib.pyplot as plt
