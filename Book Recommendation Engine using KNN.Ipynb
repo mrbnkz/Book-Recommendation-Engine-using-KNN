# import libraries (you may add additional imports but you may not have to)
import numpy as np
import pandas as pd
from scipy.sparse import csr_matrix
from sklearn.neighbors import NearestNeighbors
import matplotlib.pyplot as plt

# get data files
!wget https://cdn.freecodecamp.org/project-data/books/book-crossings.zip
!unzip book-crossings.zip
books_filename = 'BX-Books.csv'
ratings_filename = 'BX-Book-Ratings.csv'
 --2024-03-25 08:42:59-- https://cdn.freecodecamp.org/project-data/books/book-crossings.zip
Resolving cdn.freecodecamp.org (cdn.freecodecamp.org)... 104.26.2.33, 172.67.70.149, 104.26.3.33, ...
Connecting to cdn.freecodecamp.org (cdn.freecodecamp.org)|104.26.2.33|:443... connected.
HTTP request sent, awaiting response... 200 OK
Length: 26085508 (25M) [application/zip]
Saving to: ‘book-crossings.zip’
book-crossings.zip 100%[===================>] 24.88M --.-KB/s in 0.1s
2024-03-25 08:43:00 (218 MB/s) - ‘book-crossings.zip’ saved [26085508/26085508]
Archive: book-crossings.zip
 inflating: BX-Book-Ratings.csv
 inflating: BX-Books.csv
 inflating: BX-Users.csv

# import csv data into dataframes
df_books = pd.read_csv(
books_filename,
encoding = "ISO-8859-1",
sep=";",
header=0,
names=['isbn', 'title', 'author'],
usecols=['isbn', 'title', 'author'],
dtype={'isbn': 'str', 'title': 'str', 'author': 'str'})
df_ratings = pd.read_csv(
ratings_filename,
encoding = "ISO-8859-1",
sep=";",
header=0,
names=['user', 'isbn', 'rating'],
usecols=['user', 'isbn', 'rating'],
dtype={'user': 'int32', 'isbn': 'str', 'rating': 'float32'})
user isbn rating
0 276725 034545104X 0.0
1 276726 0155061224 5.0
2 276727 0446520802 0.0
3 276729 052165615X 3.0
4 276729 0521795028 6.0
df_ratings.head()
df_books.head()
4/4/24, 2:38 PM Copy of fcc_book_recommendation_knn.ipynb - Colaboratory
https://colab.research.google.com/drive/1LlyRU8o27qyxWXjVAX672jnfWrApc0eY?usp=sharing#scrollTo=738WZX-70Qu4&printMode=true 2/3
isbn title author
0 0195153448 Classical Mythology Mark P. O. Morford
1 0002005018 Clara Callan Richard Bruce Wright
2 0060973129 Decision in Normandy Carlo D'Este
3 0374157065 Flu: The Story of the Great Influenza Pandemic... Gina Bari Kolata
4 0393045218 The Mummies of Urumchi E. J. W. Barber
#Data Cleaning and filtering
df = df_ratings
x1 = df['user'].value_counts()
x2 = df['isbn'].value_counts()
#
df = df[~df['user'].isin(x1[x1 < 199].index)]
df = df[~df['isbn'].isin(x2[x2 < 99].index)]
df = pd.merge(right=df, left = df_books, on="isbn")
df = df.drop_duplicates(["title", "user"])
df_pivot = df.pivot(index='title', columns='user', values='rating').fillna(0)
matrix = df_pivot.values
▾ NearestNeighbors
NearestNeighbors(algorithm='brute', metric='cosine')
#Model Development
model_knn=NearestNeighbors(metric='cosine',algorithm='brute')
model_knn.fit(matrix)
piv = df_pivot
def get_recommends(book = ""):
x=piv.loc[book].array.reshape(1, -1)
distances,indices=model_knn.kneighbors(x,n_neighbors=6)
R_books=[]
for distance,indice in zip(distances[0],indices[0]):
if distance!=0:
R_book=piv.index[indice]
R_books.append([R_book,distance])
recommended_books=[book,R_books[::-1]]
return recommended_books
get_recommends('The Queen of the Damned (Vampire Chronicles (Paperback))')
['The Queen of the Damned (Vampire Chronicles (Paperback))',
[['Catch 22', 0.7939835],
 ['The Witching Hour (Lives of the Mayfair Witches)', 0.74486566],
 ['Interview with the Vampire', 0.73450685],
 ['The Tale of the Body Thief (Vampire Chronicles (Paperback))', 0.53763384],
 ['The Vampire Lestat (Vampire Chronicles, Book II)', 0.51784116]]]
4/4/24, 2:38 PM Copy of fcc_book_recommendation_knn.ipynb - Colaboratory
https://colab.research.google.com/drive/1LlyRU8o27qyxWXjVAX672jnfWrApc0eY?usp=sharing#scrollTo=738WZX-70Qu4&printMode=true 3/3
books = get_recommends("Where the Heart Is (Oprah's Book Club (Paperback))")
print(books)
def test_book_recommendation():
test_pass = True
recommends = get_recommends("Where the Heart Is (Oprah's Book Club (Paperback))")
if recommends[0] != "Where the Heart Is (Oprah's Book Club (Paperback))":
test_pass = False
recommended_books = ["I'll Be Seeing You", 'The Weight of Water', 'The Surgeon', 'I Know This Much Is True']
recommended_books_dist = [0.8, 0.77, 0.77, 0.77]
for i in range(2):
if recommends[1][i][0] not in recommended_books:
test_pass = False
if abs(recommends[1][i][1] - recommended_books_dist[i]) >= 0.05:
test_pass = False
if test_pass:
print("You passed the challenge! 🎉🎉🎉🎉🎉")
else:
print("You haven't passed yet. Keep trying!")
test_book_recommendation()
